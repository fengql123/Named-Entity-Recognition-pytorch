{
 "cells": [
  {
   "cell_type": "code",
   "execution_count": 1,
   "id": "ed00e960",
   "metadata": {},
   "outputs": [],
   "source": [
    "import torch\n",
    "import pandas as pd\n",
    "import torch.nn as nn\n",
    "from torch.utils.data import DataLoader\n",
    "from torchtext.vocab import build_vocab_from_iterator, GloVe\n",
    "from app.utils import getData, iterator, train_and_eval, predict, Data\n",
    "from app.model import NER"
   ]
  },
  {
   "cell_type": "markdown",
   "id": "25ff4e42",
   "metadata": {},
   "source": [
    "### Data"
   ]
  },
  {
   "cell_type": "code",
   "execution_count": 2,
   "id": "f490c35f",
   "metadata": {},
   "outputs": [],
   "source": [
    "data = pd.read_csv(\"./data/ner_datasetreference.csv\", encoding='latin1')\n",
    "sentences, labels = getData(data)\n",
    "split_idx = int(0.9 * len(sentences))\n",
    "train, train_labels, test, test_labels = sentences[:split_idx], labels[:split_idx], sentences[split_idx:], labels[split_idx:]\n",
    "vocab = build_vocab_from_iterator(iterator(train), specials=[\"<unk>\", \"<pad>\"])\n",
    "vocab.set_default_index(vocab[\"<unk>\"])\n",
    "labels_dict = build_vocab_from_iterator(iterator(train_labels), specials=[\"<pad>\"])\n",
    "glove_vocab = GloVe(name='42B', dim=300)\n",
    "use_glove = False\n",
    "max_len = max([len(s) for s in sentences])\n",
    "train_pipeline = Data(train, train_labels, max_len, vocab, glove_vocab, labels_dict, use_glove=use_glove)\n",
    "test_pipeline = Data(test, test_labels, max_len, vocab, glove_vocab, labels_dict, use_glove=use_glove)\n",
    "train_loader = DataLoader(train_pipeline, batch_size=64, shuffle=True)\n",
    "test_loader = DataLoader(test_pipeline)"
   ]
  },
  {
   "cell_type": "code",
   "execution_count": 3,
   "id": "f21eda4c",
   "metadata": {},
   "outputs": [
    {
     "name": "stdout",
     "output_type": "stream",
     "text": [
      "104\n"
     ]
    }
   ],
   "source": [
    "print(max_len)"
   ]
  },
  {
   "cell_type": "markdown",
   "id": "19a1ce58",
   "metadata": {},
   "source": [
    "### Hyperparameters"
   ]
  },
  {
   "cell_type": "code",
   "execution_count": 4,
   "id": "077ebd9b",
   "metadata": {},
   "outputs": [],
   "source": [
    "vocab_size = len(vocab)\n",
    "tag_size = len(labels_dict)\n",
    "embed_size = 300\n",
    "num_layers = 5\n",
    "hidden_size = 64\n",
    "n_epochs = 20\n",
    "learning_rate = 1e-3\n",
    "device = torch.device(\"cuda\" if torch.cuda.is_available() else \"cpu\")"
   ]
  },
  {
   "cell_type": "markdown",
   "id": "79f8cb45",
   "metadata": {},
   "source": [
    "### Model"
   ]
  },
  {
   "cell_type": "code",
   "execution_count": 5,
   "id": "1a1c629e",
   "metadata": {},
   "outputs": [],
   "source": [
    "model = NER(vocab_size, embed_size, hidden_size, num_layers, tag_size, use_glove=use_glove).to(device=device)"
   ]
  },
  {
   "cell_type": "markdown",
   "id": "aca4ee95",
   "metadata": {},
   "source": [
    "### Training"
   ]
  },
  {
   "cell_type": "code",
   "execution_count": 6,
   "id": "32cabe69",
   "metadata": {},
   "outputs": [
    {
     "name": "stdout",
     "output_type": "stream",
     "text": [
      "training loss of epoch 1 is 0.69902\n",
      "test acc after epoch 1 is 0.88465\n",
      "training loss of epoch 2 is 0.59868\n",
      "test acc after epoch 2 is 0.91017\n",
      "training loss of epoch 3 is 0.58275\n",
      "test acc after epoch 3 is 0.93792\n",
      "training loss of epoch 4 is 0.57093\n",
      "test acc after epoch 4 is 0.95058\n",
      "training loss of epoch 5 is 0.56412\n",
      "test acc after epoch 5 is 0.95521\n",
      "training loss of epoch 6 is 0.55972\n",
      "test acc after epoch 6 is 0.95976\n",
      "training loss of epoch 7 is 0.55741\n",
      "test acc after epoch 7 is 0.95913\n",
      "training loss of epoch 8 is 0.55530\n",
      "test acc after epoch 8 is 0.95998\n",
      "training loss of epoch 9 is 0.55328\n",
      "test acc after epoch 9 is 0.96087\n",
      "training loss of epoch 10 is 0.55197\n",
      "test acc after epoch 10 is 0.95852\n",
      "training loss of epoch 11 is 0.55155\n",
      "test acc after epoch 11 is 0.96200\n",
      "training loss of epoch 12 is 0.54963\n",
      "test acc after epoch 12 is 0.95976\n",
      "training loss of epoch 13 is 0.54934\n",
      "test acc after epoch 13 is 0.96021\n",
      "training loss of epoch 14 is 0.54837\n",
      "test acc after epoch 14 is 0.96200\n",
      "training loss of epoch 15 is 0.54751\n",
      "test acc after epoch 15 is 0.96104\n",
      "training loss of epoch 16 is 0.54730\n",
      "test acc after epoch 16 is 0.96223\n",
      "training loss of epoch 17 is 0.54741\n",
      "test acc after epoch 17 is 0.96005\n",
      "training loss of epoch 18 is 0.54585\n",
      "test acc after epoch 18 is 0.96271\n",
      "training loss of epoch 19 is 0.54543\n",
      "test acc after epoch 19 is 0.96162\n",
      "training loss of epoch 20 is 0.54491\n",
      "test acc after epoch 20 is 0.96164\n"
     ]
    }
   ],
   "source": [
    "criterion = nn.CrossEntropyLoss()\n",
    "optimizer = torch.optim.Adam(model.parameters(), lr=learning_rate)\n",
    "for epoch in range(n_epochs):\n",
    "    train_and_eval(model, train_loader, test_loader, optimizer, criterion, device, epoch)"
   ]
  },
  {
   "cell_type": "markdown",
   "id": "089cbd5f",
   "metadata": {},
   "source": [
    "### Testing"
   ]
  },
  {
   "cell_type": "code",
   "execution_count": 12,
   "id": "4bf60b02",
   "metadata": {},
   "outputs": [
    {
     "name": "stdout",
     "output_type": "stream",
     "text": [
      "['B-per', 'O', 'B-per', 'O', 'O', 'B-gpe', 'O', 'O', 'O']\n"
     ]
    }
   ],
   "source": [
    "print(predict(model, \"Alex and Tom expected the American leader to return\", max_len, vocab, glove_vocab, labels_dict, use_glove, device))"
   ]
  },
  {
   "cell_type": "markdown",
   "id": "70bca841",
   "metadata": {},
   "source": [
    "### Saving Model"
   ]
  },
  {
   "cell_type": "code",
   "execution_count": null,
   "id": "d8a59312",
   "metadata": {},
   "outputs": [],
   "source": [
    "torch.save(model.state_dict(), '.\\saved_no_glove.pth')"
   ]
  }
 ],
 "metadata": {
  "kernelspec": {
   "display_name": "torch",
   "language": "python",
   "name": "torch"
  },
  "language_info": {
   "codemirror_mode": {
    "name": "ipython",
    "version": 3
   },
   "file_extension": ".py",
   "mimetype": "text/x-python",
   "name": "python",
   "nbconvert_exporter": "python",
   "pygments_lexer": "ipython3",
   "version": "3.10.4"
  }
 },
 "nbformat": 4,
 "nbformat_minor": 5
}
